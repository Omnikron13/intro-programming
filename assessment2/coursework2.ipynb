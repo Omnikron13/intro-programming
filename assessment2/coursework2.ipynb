{
 "cells": [
  {
   "cell_type": "markdown",
   "metadata": {},
   "source": [
    "# Coursework 2\n",
    "\n"
   ]
  },
  {
   "cell_type": "code",
   "execution_count": null,
   "metadata": {},
   "outputs": [],
   "source": [
    "# Imports\n",
    "import numpy as np\n",
    "import matplotlib.pyplot as plt\n",
    "\n",
    "# Constants\n",
    "TRADING_YEAR = 252  # Number of trading days in a year\n",
    "\n",
    "# Basic helper functions\n",
    "def percent(x): return x / 100\n",
    "def seed(n): return np.random.default_rng(n)"
   ]
  },
  {
   "cell_type": "markdown",
   "metadata": {},
   "source": [
    "The `monte_carlo(μ, σ, price, days, iterations, rng)` function below simulates a share price defined by the equation $\\frac{P_t}{P_{t-1}}=Z$ where $P_t$ is the price at time $t$ and $Z$ is a random draw from a normal distribution with a mean passed as $\\mu$ and a standard deviation passed as $\\sigma$.\n",
    "_price_ is the initial price of the share on day 1, _days_ is the number of days to run the simulation for, _iterations_ is the number of times to repeat the simulation, and _rng_ is a [`numpy.random.Generator`](https://numpy.org/doc/stable/reference/random/generator) to supply the random numbers (e.g. if you need a fixed seed)."
   ]
  },
  {
   "cell_type": "code",
   "execution_count": null,
   "metadata": {},
   "outputs": [],
   "source": [
    "def monte_carlo(μ=0, σ=1, price=100, days=252, iterations=1, rng=None):\n",
    "    μ = percent(np.atleast_1d(μ))\n",
    "    σ = percent(np.atleast_1d(σ))\n",
    "    variations = max(μ.size, σ.size)\n",
    "    if rng is None:\n",
    "        rng = seed(None)\n",
    "    shape = (days, variations, iterations)\n",
    "    Z = np.empty(shape)\n",
    "    for i in range(variations):\n",
    "        Z[:,i,] = rng.normal(loc=1+μ[i%μ.size], scale=σ[i%σ.size], size=shape[::2])\n",
    "    P = np.empty(shape)\n",
    "    P[0,...] = price\n",
    "    for i in range(1, days):\n",
    "        P[i,...] = P[i-1,...] * Z[i,...]\n",
    "    return np.squeeze(P)"
   ]
  },
  {
   "cell_type": "markdown",
   "metadata": {},
   "source": [
    "These small functions allow the calculation of profit from a put or call option on a whole array at once. _Pt_ can be a scalar or an array, whereas _X_ should be a scalar."
   ]
  },
  {
   "cell_type": "code",
   "execution_count": null,
   "metadata": {},
   "outputs": [],
   "source": [
    "def put_option(X, Pt):\n",
    "    return np.maximum(X - Pt, 0)\n",
    "\n",
    "def call_option(X, Pt):\n",
    "    return np.maximum(Pt - X, 0)"
   ]
  },
  {
   "cell_type": "markdown",
   "metadata": {},
   "source": [
    "The `bisect(callback, target, floor, ceiling)` function below will be used for questions 2c & 3c.\n",
    "\n",
    "_callback_ should be a callable which takes takes and returns a number.\n",
    "\n",
    "_target_ is the output we are attempting to approximate.\n",
    "\n",
    "_floor_ and _ceiling_ are numbers which should return a number lower and a number higher than _target_ when passed to _callback_."
   ]
  },
  {
   "cell_type": "code",
   "execution_count": null,
   "metadata": {},
   "outputs": [],
   "source": [
    "def bisect(callback, target, floor=1, ceiling=0, precision=0.5):\n",
    "    # Try a value between floor and ceiling\n",
    "    μ = (floor+ceiling)/2\n",
    "    x = callback(μ)\n",
    "    # Check if the result is close to the target\n",
    "    if np.isclose(x, target, atol=precision):  # Tweaked target & precision values would yield much closer approximations\n",
    "        return μ\n",
    "    # ...otherwise recurse. Try a number between μ and ceiling if we're too low, between floor and μ if we're too high\n",
    "    if x < target:\n",
    "        return bisect(callback, target, μ, ceiling, precision)\n",
    "    return bisect(callback, target, floor, μ, precision)"
   ]
  },
  {
   "cell_type": "markdown",
   "metadata": {},
   "source": [
    "## Question 1"
   ]
  },
  {
   "cell_type": "code",
   "execution_count": null,
   "metadata": {},
   "outputs": [],
   "source": [
    "P = monte_carlo(μ=(0.1, 0.2, 0.3), σ=(1, 4, 6), days=756, rng=seed(345))\n",
    "\n",
    "figure, plot = plt.subplots()\n",
    "figure.set_size_inches(12, 9)\n",
    "plot.plot(P[...,0], label='Company 1')\n",
    "plot.plot(P[...,1], label='Company 2')\n",
    "plot.plot(P[...,2], label='Company 3')\n",
    "plot.set_title('756-day simulation of 3 different companies')\n",
    "plot.set_xlabel('Days')\n",
    "plot.set_ylabel('Projected Price')\n",
    "plot.legend()"
   ]
  },
  {
   "cell_type": "markdown",
   "metadata": {},
   "source": [
    "## Question 2\n",
    "The three parts of this question rely on calculating the mean price of a call option based the same simulation with slightly modified parameters, so we define the `question2_mean()` function to facilitate this:"
   ]
  },
  {
   "cell_type": "code",
   "execution_count": null,
   "metadata": {},
   "outputs": [],
   "source": [
    "def question2_mean(μ=0.05, X=175):\n",
    "    P = monte_carlo(μ, σ=0.1, days=756, iterations=10_000, rng=seed(678))[-1]  # Slice off just the final price value\n",
    "    return np.mean(call_option(X, P))  # Just return the mean as this is all that is needed for this question"
   ]
  },
  {
   "cell_type": "markdown",
   "metadata": {},
   "source": [
    "### Question 2a\n",
    "TODO: Fill this section out"
   ]
  },
  {
   "cell_type": "code",
   "execution_count": null,
   "metadata": {},
   "outputs": [],
   "source": [
    "print(f'Mean profit: {question2_mean(X=150):.2f}')"
   ]
  },
  {
   "cell_type": "markdown",
   "metadata": {},
   "source": [
    "### Question 2b\n",
    "TODO: Fill this section out"
   ]
  },
  {
   "cell_type": "code",
   "execution_count": null,
   "metadata": {},
   "outputs": [],
   "source": [
    "print(f'Mean profit: {question2_mean(X=175):.2f}')"
   ]
  },
  {
   "cell_type": "markdown",
   "metadata": {},
   "source": [
    "### Question 2c\n",
    "To approximate a value for $\\mu$ which will yield a mean profit of around $4.49$ given an $X$ of $175$ we can use bisection.\n",
    "We will need an intial floor value for $\\mu$ which we know yields a mean profit which is lower than $4.49$, and an initial ceiling value which yields a mean profit higher than $4.49$.\n",
    "A ceiling value in this instance is easy as we already know that $\\mu=0.05$ yields a considerably higher mean profit.\n",
    "A floor value can be worked out by considering that mean profit would be $0$ at _approximately_ the point where $P_{756}$ averages to $175$.\n",
    "This can be calculated with the equation $\\mu=100(\\sqrt[756]{\\frac{175}{100}}-1)$ which yields approximately $0.074$.\n",
    "This should probably be checked to ensure it is actually lower than the $4.49$ target:"
   ]
  },
  {
   "cell_type": "code",
   "execution_count": null,
   "metadata": {},
   "outputs": [],
   "source": [
    "print(f'{question2_mean(μ=0.074):.2f} is lower than 4.49')"
   ]
  },
  {
   "cell_type": "markdown",
   "metadata": {},
   "source": [
    "Given our floor & ceiling values of $0.074$ & $0.05$ we can recursively check if an arbitrary value _between_ these two numbers yields our target of $4.49$, adjusting our floor or ceiling value (to match the number we just tried) after each attempt depending if the result is lower or higher than our target.\n",
    "\n",
    "A function for bisection, `bisect()`, is defined earlier, and will calculate a value for $\\mu$ which will _approximately_ yield our $4.49$ target when passed `question2_mean()`, the target of $4$ ($4.49$ to the nearest integer), and our floor & ceiling values:"
   ]
  },
  {
   "cell_type": "code",
   "execution_count": null,
   "metadata": {},
   "outputs": [],
   "source": [
    "# Run the bisection and print the result to 3 decimal places:\n",
    "μ = bisect(callback=question2_mean, target=4, floor=0.074, ceiling=0.05)\n",
    "print(f'μ = {μ:.3f} should approximate the payoff from Question 2a.')\n",
    "\n",
    "# Print what this value of μ actually yields:\n",
    "print(f'Mean payoff when μ = {μ:.3f} is {question2_mean(μ):.2f}')"
   ]
  },
  {
   "cell_type": "markdown",
   "metadata": {},
   "source": [
    "## Question 3"
   ]
  },
  {
   "cell_type": "code",
   "execution_count": null,
   "metadata": {},
   "outputs": [],
   "source": [
    "# Get the mean value of the share over 504 days\n",
    "P = np.mean(monte_carlo(μ=0.05, σ=0.1, days=504, iterations=10_000, rng=seed(678)), 0)\n",
    "\n",
    "# Q.3a\n",
    "π = call_option(X=150, Pt=P)  # call_option() running on all 10,000 iterations\n",
    "print(f'Mean profit: {np.mean(π):.2f}')\n",
    "\n",
    "# Q.3b\n",
    "π = call_option(X=140, Pt=P)\n",
    "print(f'Mean profit: {np.mean(π):.2f}')"
   ]
  },
  {
   "cell_type": "markdown",
   "metadata": {},
   "source": [
    "### Question 3c\n",
    "TODO: code reuse?"
   ]
  },
  {
   "cell_type": "code",
   "execution_count": null,
   "metadata": {},
   "outputs": [],
   "source": [
    "def question3_mean(μ=0.05, X=140):\n",
    "    P = np.mean(monte_carlo(μ, σ=0.1, days=504, iterations=10_000, rng=seed(678)), 0)\n",
    "    return np.mean(call_option(X, P))"
   ]
  },
  {
   "cell_type": "markdown",
   "metadata": {},
   "source": [
    "Bisection can again be used to approximate a value for $\\mu$ that will yield a mean payoff which is around $36.31$.\n",
    "This time we already have a value for the floor as we know $\\mu=0.05$ yields a result lower than our target, so we need to find a value for the ceiling instead.\n",
    "As $P_0=100$ and $X=140$ a lack of change should result in a mean payoff of $40$ (which is higher than our target), thus $\\mu=0$ should work for our ceiling value.\n",
    "This can be checked before we run the bisection:"
   ]
  },
  {
   "cell_type": "code",
   "execution_count": null,
   "metadata": {},
   "outputs": [],
   "source": [
    "print(f'{question3_mean(μ=0):.2f} is higher than 36.31')"
   ]
  },
  {
   "cell_type": "markdown",
   "metadata": {},
   "source": [
    "We can then run the bisection to calculate a value for $\\mu$ that will yield approximately $36.31$:"
   ]
  },
  {
   "cell_type": "code",
   "execution_count": null,
   "metadata": {},
   "outputs": [],
   "source": [
    "# Run the bisection and print the result to 3 decimal places:\n",
    "μ = bisect(callback=question3_mean, target=36, floor=0.05, ceiling=0)\n",
    "print(f'μ = {μ:.3f} should approximate the payoff from Question 3a.')\n",
    "\n",
    "# Print what this value of μ actually yields:\n",
    "print(f'Mean payoff when μ = {μ:.3f} is {question3_mean(μ):.2f}')"
   ]
  }
 ],
 "metadata": {
  "kernelspec": {
   "display_name": "Python 3",
   "language": "python",
   "name": "python3"
  },
  "language_info": {
   "codemirror_mode": {
    "name": "ipython",
    "version": 3
   },
   "file_extension": ".py",
   "mimetype": "text/x-python",
   "name": "python",
   "nbconvert_exporter": "python",
   "pygments_lexer": "ipython3",
   "version": "3.8.5"
  }
 },
 "nbformat": 4,
 "nbformat_minor": 4
}
