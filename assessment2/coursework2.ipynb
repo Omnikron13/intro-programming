{
 "cells": [
  {
   "cell_type": "markdown",
   "metadata": {},
   "source": [
    "# Coursework 2\n",
    "\n"
   ]
  },
  {
   "cell_type": "code",
   "execution_count": null,
   "metadata": {},
   "outputs": [],
   "source": [
    "# Imports\n",
    "import numpy as np\n",
    "import matplotlib.pyplot as plt"
   ]
  },
  {
   "cell_type": "markdown",
   "metadata": {},
   "source": [
    "The `monte_carlo(μ, σ, price, days, iterations, rng)` function below simulates a share price defined by the equation $\\frac{P_t}{P_{t-1}}=Z$ where $P_t$ is the price at time $t$ and $Z$ is a random draw from a normal distribution with a mean passed as $\\mu$ and a standard deviation passed as $\\sigma$.\n",
    "_price_ is the initial price of the share on day 1, _days_ is the number of days to run the simulation for, _iterations_ is the number of times to repeat the simulation, and _rng_ is a [`numpy.random.Generator`](https://numpy.org/doc/stable/reference/random/generator) to supply the random numbers (e.g. if you need a fixed seed)."
   ]
  },
  {
   "cell_type": "code",
   "execution_count": null,
   "metadata": {},
   "outputs": [],
   "source": [
    "def monte_carlo(μ=0, σ=100, price=100, days=252, iterations=1, rng=None):\n",
    "    μ = np.atleast_1d(μ)/100\n",
    "    σ = np.atleast_1d(σ)/100\n",
    "    variations = max(μ.size, σ.size)\n",
    "    if rng is None:\n",
    "        rng = np.random.default_rng()\n",
    "    shape = (days, iterations, variations)\n",
    "    Z = np.zeros(shape)\n",
    "    for i in range(variations):\n",
    "        Z[...,i] = rng.normal(loc=1+μ[i%μ.size], scale=σ[i%σ.size], size=shape[0:2])\n",
    "    P = np.empty(shape)\n",
    "    P[0,...] = price\n",
    "    for i in range(1, days):\n",
    "        P[i,...] = P[i-1,...] * Z[i,...]\n",
    "    return P"
   ]
  }
 ],
 "metadata": {
  "kernelspec": {
   "display_name": "Python 3",
   "language": "python",
   "name": "python3"
  },
  "language_info": {
   "codemirror_mode": {
    "name": "ipython",
    "version": 3
   },
   "file_extension": ".py",
   "mimetype": "text/x-python",
   "name": "python",
   "nbconvert_exporter": "python",
   "pygments_lexer": "ipython3",
   "version": "3.8.5"
  }
 },
 "nbformat": 4,
 "nbformat_minor": 4
}
